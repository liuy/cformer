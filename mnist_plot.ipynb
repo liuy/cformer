{
 "cells": [
  {
   "cell_type": "code",
   "execution_count": null,
   "metadata": {},
   "outputs": [],
   "source": [
    "import matplotlib.pyplot as plt\n",
    "import numpy as np\n",
    "\n",
    "def read_mnist(image_filename, label_filename=None):\n",
    "    labels = None\n",
    "    with open(image_filename, 'rb') as f:\n",
    "        images = np.frombuffer(f.read(), np.uint8, offset=16).reshape(-1, 28*28).astype(np.float32) / 255.0\n",
    "    if label_filename:\n",
    "        with open(label_filename, 'rb') as f:\n",
    "            labels = np.frombuffer(f.read(), np.uint8, offset=8)\n",
    "    return images, labels\n",
    "\n",
    "tr_x, tr_y = read_mnist(\"data/mnist/train-images-idx3-ubyte\", \"data/mnist/train-labels-idx1-ubyte\")\n",
    "ts_x, ts_y = read_mnist(\"data/mnist/t10k-images-idx3-ubyte\", \"data/mnist/t10k-labels-idx1-ubyte\")\n",
    "\n",
    "rr_x, _ = read_mnist(\"mnist_rr_images\")\n",
    "\n",
    "def plot_mnist(images, labels, num_row = 2, num_col = 5, base=0):\n",
    "    fig, axes = plt.subplots(num_row, num_col, figsize=(1.5*num_col,2*num_row))\n",
    "    for i in range(num_row * num_col):\n",
    "        if num_row == 1:\n",
    "            if num_col == 1:\n",
    "                ax = axes\n",
    "            else:\n",
    "                ax = axes[i]\n",
    "        else:\n",
    "            ax = axes[i//num_col, i%num_col]\n",
    "        ax.imshow(images[base + i].reshape(28,28), cmap='gray')\n",
    "        ax.set_title(f'Label: {labels[i]}')\n",
    "    plt.tight_layout()\n",
    "    plt.show()"
   ]
  },
  {
   "cell_type": "code",
   "execution_count": null,
   "metadata": {},
   "outputs": [],
   "source": [
    "plot_mnist(rr_x, tr_y, 2, 10, 60000)\n",
    "plot_mnist(tr_x, tr_y, 2, 10)\n"
   ]
  },
  {
   "cell_type": "code",
   "execution_count": null,
   "metadata": {},
   "outputs": [],
   "source": [
    "import torch\n",
    "\n",
    "x = torch.tensor([[1.0, 2.0, 3.0],\n",
    "                  [1.0, 10000.0, 5.0]], requires_grad=True)\n",
    "y = torch.softmax(x, dim=1)\n",
    "y = torch.log(y + 1e-8)\n",
    "y.backward(torch.tensor([[1.0,1.0,1.0], [1.0, 1.0, 1.0]]))\n",
    "\n",
    "print(y, x.grad) "
   ]
  }
 ],
 "metadata": {
  "kernelspec": {
   "display_name": "Python 3",
   "language": "python",
   "name": "python3"
  },
  "language_info": {
   "codemirror_mode": {
    "name": "ipython",
    "version": 3
   },
   "file_extension": ".py",
   "mimetype": "text/x-python",
   "name": "python",
   "nbconvert_exporter": "python",
   "pygments_lexer": "ipython3",
   "version": "3.8.10"
  },
  "orig_nbformat": 4
 },
 "nbformat": 4,
 "nbformat_minor": 2
}
