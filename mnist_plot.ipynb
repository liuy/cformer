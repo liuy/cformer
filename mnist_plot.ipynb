{
 "cells": [
  {
   "cell_type": "code",
   "execution_count": null,
   "metadata": {},
   "outputs": [],
   "source": [
    "import matplotlib.pyplot as plt\n",
    "import numpy as np\n",
    "\n",
    "def read_mnist(image_filename, label_filename=None):\n",
    "    labels = None\n",
    "    with open(image_filename, 'rb') as f:\n",
    "        images = np.frombuffer(f.read(), np.uint8, offset=16).reshape(-1, 28*28).astype(np.float32) / 255.0\n",
    "    if label_filename:\n",
    "        with open(label_filename, 'rb') as f:\n",
    "            labels = np.frombuffer(f.read(), np.uint8, offset=8)\n",
    "    return images, labels\n",
    "\n",
    "tr_x, tr_y = read_mnist(\"data/mnist/train-images-idx3-ubyte\", \"data/mnist/train-labels-idx1-ubyte\")\n",
    "ts_x, ts_y = read_mnist(\"data/mnist/t10k-images-idx3-ubyte\", \"data/mnist/t10k-labels-idx1-ubyte\")\n",
    "\n",
    "rr_x, _ = read_mnist(\"mnist_rr_images\")\n",
    "\n",
    "def plot_mnist(images, labels, num_row = 2, num_col = 5, base=0):\n",
    "    fig, axes = plt.subplots(num_row, num_col, figsize=(1.5*num_col,2*num_row))\n",
    "    for i in range(num_row * num_col):\n",
    "        if num_row == 1:\n",
    "            if num_col == 1:\n",
    "                ax = axes\n",
    "            else:\n",
    "                ax = axes[i]\n",
    "        else:\n",
    "            ax = axes[i//num_col, i%num_col]\n",
    "        ax.imshow(images[base + i].reshape(28,28), cmap='gray')\n",
    "        ax.set_title(f'Label: {labels[i]}')\n",
    "    plt.tight_layout()\n",
    "    plt.show()"
   ]
  },
  {
   "cell_type": "code",
   "execution_count": null,
   "metadata": {},
   "outputs": [],
   "source": [
    "plot_mnist(rr_x, tr_y, 2, 10, 60000)\n",
    "plot_mnist(tr_x, tr_y, 2, 10)\n"
   ]
  },
  {
   "cell_type": "code",
   "execution_count": null,
   "metadata": {},
   "outputs": [],
   "source": [
    "import torch\n",
    "\n",
    "x = torch.tensor([[1.0, 2.0, 3.0], [3.0, 3.0, 3.0]], requires_grad=True)\n",
    "#y = torch.std(x).broadcast_to(x.shape)\n",
    "#y = torch.std(x, correction=0).expand_as(x)\n",
    "#y = (x - torch.mean(x, dim=0, keepdim=True))\n",
    "y = (x - torch.mean(x, dim=0, keepdim=True)) / (torch.var(x, dim=0, keepdim=True, correction=0) + 1e-5)**0.5\n",
    "#y = (torch.var(x, dim=0, keepdim=True, correction=0) + 1e-5).expand_as(x) ** 0.5\n",
    "#y.backward()\n",
    "#print(torch.var(x, dim=1, keepdim=True, correction=0))\n",
    "y.backward(torch.tensor([[1.0,3.0,5.0],\n",
    "                         [2.0,4.0,6.0]]))\n",
    "\n",
    "torch.set_printoptions(precision=8)\n",
    "print(y, x.grad)"
   ]
  },
  {
   "cell_type": "code",
   "execution_count": null,
   "metadata": {},
   "outputs": [],
   "source": [
    "import torch\n",
    "import numpy as np\n",
    "cell = torch.nn.LSTMCell(3,10)\n",
    "# print(cell.weight_hh)\n",
    "# print(cell.weight_ih)\n",
    "# print(cell.bias_hh)\n",
    "# print(cell.bias_ih)\n",
    "\n",
    "x = torch.ones(1,3)\n",
    "h, c = cell(x, (torch.zeros(1,10), torch.zeros(1,10)))\n",
    "print(h, c)"
   ]
  }
 ],
 "metadata": {
  "kernelspec": {
   "display_name": "Python 3",
   "language": "python",
   "name": "python3"
  },
  "language_info": {
   "codemirror_mode": {
    "name": "ipython",
    "version": 3
   },
   "file_extension": ".py",
   "mimetype": "text/x-python",
   "name": "python",
   "nbconvert_exporter": "python",
   "pygments_lexer": "ipython3",
   "version": "3.11.3"
  },
  "orig_nbformat": 4
 },
 "nbformat": 4,
 "nbformat_minor": 2
}
